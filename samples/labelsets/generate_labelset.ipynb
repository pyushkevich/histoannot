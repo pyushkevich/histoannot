{
 "cells": [
  {
   "cell_type": "code",
   "execution_count": 28,
   "metadata": {},
   "outputs": [],
   "source": [
    "import json\n",
    "import matplotlib\n",
    "import matplotlib.pyplot as plt\n",
    "import numpy as np\n",
    "from matplotlib.colors import ListedColormap"
   ]
  },
  {
   "cell_type": "code",
   "execution_count": 6,
   "metadata": {},
   "outputs": [],
   "source": [
    "strings=\"\"\"\n",
    "1 VIS primary visual cortex\n",
    "2 MOT motor cortex\n",
    "3 PCIN posterior cingulate gyrus\n",
    "4 MF medial frontal gyrus\n",
    "5 ACIN anterior cingulate gyrus\n",
    "6 ORF orbitofrontal gyrus\n",
    "7 STEMP superior temporal gyrus\n",
    "8 IF inferior frontal cortex (Broca’s area)\n",
    "9 ANTIN insula\n",
    "10 ATEMPP temporal pole\n",
    "11 VLT ventrolateral part of the inferior temporal gyrus\n",
    "12 SP superior parietal lobule\n",
    "13 ANG angular gyrus\n",
    "14 ERC entorhinal cortex\n",
    "15 BA35\n",
    "16 CA1\n",
    "17 SUB subiculum\n",
    "18 PHC parahippocampal cortex\n",
    "19 AACIN also anterior cingulate gyrus\n",
    "\"\"\""
   ]
  },
  {
   "cell_type": "code",
   "execution_count": 35,
   "metadata": {},
   "outputs": [
    {
     "name": "stderr",
     "output_type": "stream",
     "text": [
      "/tmp/ipykernel_755251/3116516422.py:6: MatplotlibDeprecationWarning: The get_cmap function was deprecated in Matplotlib 3.7 and will be removed two minor releases later. Use ``matplotlib.colormaps[name]`` or ``matplotlib.colormaps.get_cmap(obj)`` instead.\n",
      "  rgb = np.array(plt.cm.get_cmap('tab20', 20).colors[i][0:3])\n"
     ]
    }
   ],
   "source": [
    "data = []\n",
    "for i, s in enumerate(strings.split('\\n')[1:-1]):\n",
    "    w = s.split(' ')\n",
    "    sl = w[1]\n",
    "    ll = ' '.join(w[2:])\n",
    "    rgb = np.array(plt.cm.get_cmap('tab20', 20).colors[i][0:3])\n",
    "    rgb = (rgb * 255).astype(int)\n",
    "    data.append({'name': sl, 'color': f'#{rgb[0]:02x}{rgb[1]:02x}{rgb[2]:02x}', 'description': ll})\n",
    "\n",
    "with open('dots-sampling.json','wt') as fh:\n",
    "    json.dump(data, fh)"
   ]
  },
  {
   "cell_type": "code",
   "execution_count": null,
   "metadata": {},
   "outputs": [],
   "source": []
  }
 ],
 "metadata": {
  "kernelspec": {
   "display_name": "venv",
   "language": "python",
   "name": "python3"
  },
  "language_info": {
   "codemirror_mode": {
    "name": "ipython",
    "version": 3
   },
   "file_extension": ".py",
   "mimetype": "text/x-python",
   "name": "python",
   "nbconvert_exporter": "python",
   "pygments_lexer": "ipython3",
   "version": "3.10.12"
  }
 },
 "nbformat": 4,
 "nbformat_minor": 2
}
